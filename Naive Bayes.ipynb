{
 "cells": [
  {
   "cell_type": "code",
   "execution_count": 2,
   "id": "1d101c82",
   "metadata": {
    "ExecuteTime": {
     "end_time": "2021-12-20T05:31:02.181903Z",
     "start_time": "2021-12-20T05:31:00.994615Z"
    }
   },
   "outputs": [],
   "source": [
    "import pandas as pd \n",
    "import numpy as np\n",
    "import matplotlib.pyplot as plt"
   ]
  },
  {
   "cell_type": "code",
   "execution_count": 3,
   "id": "7c6ac771",
   "metadata": {
    "ExecuteTime": {
     "end_time": "2021-12-20T05:31:05.393771Z",
     "start_time": "2021-12-20T05:31:05.204737Z"
    }
   },
   "outputs": [],
   "source": [
    "salary_train=pd.read_csv(\"SalaryData_Train.csv\")\n",
    "salary_test=pd.read_csv(\"SalaryData_Test.csv\")"
   ]
  },
  {
   "cell_type": "code",
   "execution_count": 4,
   "id": "99df1fb9",
   "metadata": {
    "ExecuteTime": {
     "end_time": "2021-12-20T05:31:07.593716Z",
     "start_time": "2021-12-20T05:31:07.571778Z"
    }
   },
   "outputs": [
    {
     "data": {
      "text/plain": [
       "Index(['age', 'workclass', 'education', 'educationno', 'maritalstatus',\n",
       "       'occupation', 'relationship', 'race', 'sex', 'capitalgain',\n",
       "       'capitalloss', 'hoursperweek', 'native', 'Salary'],\n",
       "      dtype='object')"
      ]
     },
     "execution_count": 4,
     "metadata": {},
     "output_type": "execute_result"
    }
   ],
   "source": [
    "salary_train.columns"
   ]
  },
  {
   "cell_type": "code",
   "execution_count": 5,
   "id": "f2976555",
   "metadata": {
    "ExecuteTime": {
     "end_time": "2021-12-20T05:31:10.110582Z",
     "start_time": "2021-12-20T05:31:10.087641Z"
    }
   },
   "outputs": [
    {
     "data": {
      "text/plain": [
       "Index(['age', 'workclass', 'education', 'educationno', 'maritalstatus',\n",
       "       'occupation', 'relationship', 'race', 'sex', 'capitalgain',\n",
       "       'capitalloss', 'hoursperweek', 'native', 'Salary'],\n",
       "      dtype='object')"
      ]
     },
     "execution_count": 5,
     "metadata": {},
     "output_type": "execute_result"
    }
   ],
   "source": [
    "salary_test.columns"
   ]
  },
  {
   "cell_type": "code",
   "execution_count": 6,
   "id": "f55c19e0",
   "metadata": {
    "ExecuteTime": {
     "end_time": "2021-12-20T05:31:13.176861Z",
     "start_time": "2021-12-20T05:31:13.157912Z"
    }
   },
   "outputs": [],
   "source": [
    "string_columns=['workclass','education','maritalstatus','occupation', 'relationship', 'race', 'sex', 'native']"
   ]
  },
  {
   "cell_type": "code",
   "execution_count": 7,
   "id": "5ddac17c",
   "metadata": {
    "ExecuteTime": {
     "end_time": "2021-12-20T05:31:15.694110Z",
     "start_time": "2021-12-20T05:31:15.675302Z"
    }
   },
   "outputs": [],
   "source": [
    "from sklearn import preprocessing"
   ]
  },
  {
   "cell_type": "code",
   "execution_count": 8,
   "id": "b5ca2547",
   "metadata": {
    "ExecuteTime": {
     "end_time": "2021-12-20T05:31:18.006079Z",
     "start_time": "2021-12-20T05:31:17.994171Z"
    }
   },
   "outputs": [],
   "source": [
    "label_encoder=preprocessing.LabelEncoder()"
   ]
  },
  {
   "cell_type": "code",
   "execution_count": 9,
   "id": "de2e7045",
   "metadata": {
    "ExecuteTime": {
     "end_time": "2021-12-20T05:31:21.062377Z",
     "start_time": "2021-12-20T05:31:20.873102Z"
    }
   },
   "outputs": [],
   "source": [
    "for i in string_columns:\n",
    "    salary_train[i]=label_encoder.fit_transform(salary_train[i])\n",
    "    salary_test[i]=label_encoder.fit_transform(salary_test[i])"
   ]
  },
  {
   "cell_type": "code",
   "execution_count": 10,
   "id": "5becb1d9",
   "metadata": {
    "ExecuteTime": {
     "end_time": "2021-12-20T05:31:23.559040Z",
     "start_time": "2021-12-20T05:31:23.537095Z"
    }
   },
   "outputs": [],
   "source": [
    "col_names=list(salary_train.columns)\n",
    "train_X=salary_train[col_names[0:13]]\n",
    "train_Y=salary_train[col_names[13]]\n",
    "test_x=salary_test[col_names[0:13]]\n",
    "test_y=salary_test[col_names[13]]"
   ]
  },
  {
   "cell_type": "code",
   "execution_count": 11,
   "id": "6cdc4708",
   "metadata": {
    "ExecuteTime": {
     "end_time": "2021-12-20T05:31:26.790972Z",
     "start_time": "2021-12-20T05:31:26.609327Z"
    }
   },
   "outputs": [],
   "source": [
    "from sklearn.naive_bayes import GaussianNB\n",
    "Gmodel=GaussianNB()\n",
    "train_pred_gau=Gmodel.fit(train_X,train_Y).predict(train_X)\n",
    "test_pred_gau=Gmodel.fit(train_X,train_Y).predict(test_x)"
   ]
  },
  {
   "cell_type": "code",
   "execution_count": 12,
   "id": "d248e2f5",
   "metadata": {
    "ExecuteTime": {
     "end_time": "2021-12-20T05:31:29.275542Z",
     "start_time": "2021-12-20T05:31:29.255034Z"
    }
   },
   "outputs": [],
   "source": [
    "train_acc_gau=np.mean(train_pred_gau==train_Y)\n",
    "test_acc_gau=np.mean(test_pred_gau==test_y)"
   ]
  },
  {
   "cell_type": "code",
   "execution_count": 13,
   "id": "0d53a1d6",
   "metadata": {
    "ExecuteTime": {
     "end_time": "2021-12-20T05:31:31.803235Z",
     "start_time": "2021-12-20T05:31:31.793226Z"
    }
   },
   "outputs": [
    {
     "data": {
      "text/plain": [
       "0.7953317197705646"
      ]
     },
     "execution_count": 13,
     "metadata": {},
     "output_type": "execute_result"
    }
   ],
   "source": [
    "train_acc_gau"
   ]
  },
  {
   "cell_type": "code",
   "execution_count": 14,
   "id": "d55a77d7",
   "metadata": {
    "ExecuteTime": {
     "end_time": "2021-12-20T05:31:35.142799Z",
     "start_time": "2021-12-20T05:31:35.132748Z"
    }
   },
   "outputs": [
    {
     "data": {
      "text/plain": [
       "0.7946879150066402"
      ]
     },
     "execution_count": 14,
     "metadata": {},
     "output_type": "execute_result"
    }
   ],
   "source": [
    "test_acc_gau"
   ]
  },
  {
   "cell_type": "code",
   "execution_count": 15,
   "id": "0c77a9cf",
   "metadata": {
    "ExecuteTime": {
     "end_time": "2021-12-20T05:32:12.188068Z",
     "start_time": "2021-12-20T05:32:11.826006Z"
    }
   },
   "outputs": [
    {
     "data": {
      "image/png": "[encoded data removed]",
      "text/plain": [
       "<Figure size 432x288 with 1 Axes>"
      ]
     },
     "metadata": {
      "needs_background": "light"
     },
     "output_type": "display_data"
    }
   ],
   "source": [
    "from sklearn.datasets import make_blobs\n",
    "train_X, train_Y = make_blobs(100, 2, centers=2, random_state=2, cluster_std=1.5)\n",
    "plt.scatter(train_X[:, 0], train_X[:, 1], c=train_Y, s=50, cmap='RdBu');"
   ]
  },
  {
   "cell_type": "code",
   "execution_count": 18,
   "id": "16bcf8df",
   "metadata": {
    "ExecuteTime": {
     "end_time": "2021-12-18T08:58:30.364873Z",
     "start_time": "2021-12-18T08:58:29.883033Z"
    }
   },
   "outputs": [],
   "source": [
    "from sklearn.naive_bayes import MultinomialNB\n",
    "Mmodel=MultinomialNB()\n",
    "train_pred_multi=Mmodel.fit(train_X,train_Y).predict(train_X)\n",
    "test_pred_multi=Mmodel.fit(train_X,train_Y).predict(test_x)\n"
   ]
  },
  {
   "cell_type": "code",
   "execution_count": 19,
   "id": "ba1ac479",
   "metadata": {
    "ExecuteTime": {
     "end_time": "2021-12-18T08:58:43.973415Z",
     "start_time": "2021-12-18T08:58:43.944389Z"
    }
   },
   "outputs": [],
   "source": [
    "train_acc_multi=np.mean(train_pred_multi==train_Y)\n",
    "test_acc_multi=np.mean(test_pred_multi==test_y)"
   ]
  },
  {
   "cell_type": "code",
   "execution_count": 20,
   "id": "13e790fe",
   "metadata": {
    "ExecuteTime": {
     "end_time": "2021-12-18T08:58:54.720593Z",
     "start_time": "2021-12-18T08:58:54.701678Z"
    }
   },
   "outputs": [
    {
     "data": {
      "text/plain": [
       "0.7729186698053778"
      ]
     },
     "execution_count": 20,
     "metadata": {},
     "output_type": "execute_result"
    }
   ],
   "source": [
    "train_acc_multi"
   ]
  },
  {
   "cell_type": "code",
   "execution_count": 21,
   "id": "4deef748",
   "metadata": {
    "ExecuteTime": {
     "end_time": "2021-12-18T08:59:05.278762Z",
     "start_time": "2021-12-18T08:59:05.267795Z"
    }
   },
   "outputs": [
    {
     "data": {
      "text/plain": [
       "0.7749667994687915"
      ]
     },
     "execution_count": 21,
     "metadata": {},
     "output_type": "execute_result"
    }
   ],
   "source": [
    "test_acc_multi"
   ]
  }
 ],
 "metadata": {
  "kernelspec": {
   "display_name": "Python 3",
   "language": "python",
   "name": "python3"
  },
  "language_info": {
   "codemirror_mode": {
    "name": "ipython",
    "version": 3
   },
   "file_extension": ".py",
   "mimetype": "text/x-python",
   "name": "python",
   "nbconvert_exporter": "python",
   "pygments_lexer": "ipython3",
   "version": "3.8.8"
  },
  "varInspector": {
   "cols": {
    "lenName": 16,
    "lenType": 16,
    "lenVar": 40
   },
   "kernels_config": {
    "python": {
     "delete_cmd_postfix": "",
     "delete_cmd_prefix": "del ",
     "library": "var_list.py",
     "varRefreshCmd": "print(var_dic_list())"
    },
    "r": {
     "delete_cmd_postfix": ") ",
     "delete_cmd_prefix": "rm(",
     "library": "var_list.r",
     "varRefreshCmd": "cat(var_dic_list()) "
    }
   },
   "types_to_exclude": [
    "module",
    "function",
    "builtin_function_or_method",
    "instance",
    "_Feature"
   ],
   "window_display": false
  }
 },
 "nbformat": 4,
 "nbformat_minor": 5
}
